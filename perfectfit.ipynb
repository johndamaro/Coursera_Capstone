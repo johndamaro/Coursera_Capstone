{
 "metadata": {
  "language_info": {
   "codemirror_mode": {
    "name": "ipython",
    "version": 3
   },
   "file_extension": ".py",
   "mimetype": "text/x-python",
   "name": "python",
   "nbconvert_exporter": "python",
   "pygments_lexer": "ipython3",
   "version": "3.8.4-final"
  },
  "orig_nbformat": 2,
  "kernelspec": {
   "name": "python38464bit20a593eed7074601880fa87151a5ae6c",
   "display_name": "Python 3.8.4 64-bit"
  }
 },
 "nbformat": 4,
 "nbformat_minor": 2,
 "cells": [
  {
   "cell_type": "markdown",
   "metadata": {},
   "source": [
    "# The *Perfect* Fit\n",
    "  With this Notebook I will be extracting data with the Foursquare API and scrapping RentHop.com for average rent for one bedroom apartments. Once all data is obtained, it will be cleaned and processed by city, by neighborhood. This will utilize the k-means clustering algorithm to further choose between which city is my personal best fit and will contribute to neighborhood decisions as well. "
   ]
  },
  {
   "cell_type": "code",
   "execution_count": 53,
   "metadata": {
    "tags": []
   },
   "outputs": [
    {
     "output_type": "stream",
     "name": "stdout",
     "text": "Libraries imported.\n"
    }
   ],
   "source": [
    "import numpy as np                          # library to handle data in a vectorized manner\n",
    "import pandas as pd                         # library for data analsysis\n",
    "pd.set_option('display.max_columns', None)\n",
    "pd.set_option('display.max_rows', None)\n",
    "import json                                 # library to handle JSON files\n",
    "from geopy.geocoders import Nominatim       # convert an address into latitude and longitude values\n",
    "import requests                             # library to handle requests\n",
    "from pandas.io.json import json_normalize   # tranform JSON file into a pandas dataframe\n",
    "\n",
    "# Matplotlib and associated plotting modules\n",
    "import matplotlib.cm as cm\n",
    "import matplotlib.colors as colors\n",
    "\n",
    "# import k-means from clustering stage\n",
    "from sklearn.cluster import KMeans\n",
    "\n",
    "import folium                               # map rendering library\n",
    "\n",
    "print('Libraries imported.')"
   ]
  },
  {
   "cell_type": "markdown",
   "metadata": {},
   "source": [
    "### Downloading Datasets for each city\n",
    "  New York City - This data is the same as the week 3's \"Segmenting and Clustering Neighborhoods\" data  \n",
    "    \n",
    "  Boston - https://data.boston.gov/dataset/boston-neighborhoods/resource/13ee2b65-6547-4168-b112-83995f138602 geojson data of Boston's neighborhoods  \n",
    "    \n",
    "  Chicago - https://data.cityofchicago.org/Facilities-Geographic-Boundaries/Boundaries-Neighborhoods/bbvz-uum9 geojson data of Chicago's neighborhoods"
   ]
  },
  {
   "cell_type": "code",
   "execution_count": 54,
   "metadata": {
    "tags": []
   },
   "outputs": [
    {
     "output_type": "stream",
     "name": "stdout",
     "text": "New York JSON data loaded\nBoston JSON data loaded\nChicago JSON data loaded\n"
    }
   ],
   "source": [
    "with open('newyork_data.json') as json_data:\n",
    "    newyork_data = json.load(json_data)\n",
    "    print(\"New York JSON data loaded\")\n",
    "\n",
    "with open('Boston_Neighborhoods.json') as json_data:\n",
    "    boston_data = json.load(json_data)\n",
    "    print(\"Boston JSON data loaded\")\n",
    "\n",
    "with open('Chicago_Neighborhoods.json') as json_data:\n",
    "    chicago_data = json.load(json_data)\n",
    "    print(\"Chicago JSON data loaded\")\n",
    "\n",
    "ny_neighborhoods_data = newyork_data['features']\n",
    "bos_neighborhoods_data = boston_data['features']\n",
    "chi_neighborhoods_data = chicago_data['features']"
   ]
  },
  {
   "cell_type": "markdown",
   "metadata": {},
   "source": [
    "### Transform into pandas df"
   ]
  },
  {
   "cell_type": "code",
   "execution_count": 89,
   "metadata": {},
   "outputs": [],
   "source": [
    "ny_names = ['Borough', 'Neighborhood', 'Latitude', 'Longitude'] \n",
    "bos_names = ['Neighborhood', 'Latitude', 'Longitude']\n",
    "chi_names = ['Primary Neighborhood', 'Secondary Neighborhood', 'Latitude', 'Longitude']\n",
    "\n",
    "ny_hoods = pd.DataFrame(columns=ny_names)\n",
    "bos_hoods = pd.DataFrame(columns=bos_names)\n",
    "chi_hoods = pd.DataFrame(columns=chi_names)"
   ]
  },
  {
   "cell_type": "markdown",
   "metadata": {},
   "source": [
    "### If the JSON files were all configured the same...\n",
    "  ~~hoods = ny_hoods, bos_hoods, chi_hoods  \n",
    "  for hood in hoods:~~"
   ]
  },
  {
   "cell_type": "code",
   "execution_count": 56,
   "metadata": {},
   "outputs": [],
   "source": [
    "# Loop for New York City Data\n",
    "for data in ny_neighborhoods_data:\n",
    "    borough = neighborhood_name = data['properties']['borough'] \n",
    "    neighborhood_name = data['properties']['name']\n",
    "        \n",
    "    neighborhood_latlon = data['geometry']['coordinates']\n",
    "    neighborhood_lat = neighborhood_latlon[1]\n",
    "    neighborhood_lon = neighborhood_latlon[0]\n",
    "    \n",
    "    ny_hoods = ny_hoods.append({'Borough': borough,\n",
    "                                          'Neighborhood': neighborhood_name,\n",
    "                                          'Latitude': neighborhood_lat,\n",
    "                                          'Longitude': neighborhood_lon}, ignore_index=True)"
   ]
  },
  {
   "cell_type": "code",
   "execution_count": 57,
   "metadata": {
    "tags": []
   },
   "outputs": [],
   "source": [
    "# Loop for Boston Data\n",
    "for data in bos_neighborhoods_data:\n",
    "    neighborhood_name = data[\"properties\"][\"Name\"]\n",
    "    address = neighborhood_name + \", MA\"\n",
    "\n",
    "    geolocator = Nominatim(user_agent=\"bos_explorer\")\n",
    "    location = geolocator.geocode(address)\n",
    "    try:\n",
    "        latitude = location.latitude\n",
    "        longitude = location.longitude\n",
    "    except AttributeError:\n",
    "        pass\n",
    "    #print('The geograpical coordinate of {} are {}, {}.'.format(neighborhood_name, latitude, longitude))\n",
    "    bos_hoods = bos_hoods.append({'Neighborhood': neighborhood_name,\n",
    "                                  'Latitude': latitude,\n",
    "                                  'Longitude': longitude}, ignore_index=True)"
   ]
  },
  {
   "cell_type": "code",
   "execution_count": 83,
   "metadata": {},
   "outputs": [
    {
     "output_type": "execute_result",
     "data": {
      "text/plain": "  Borough Neighborhood   Latitude  Longitude\n0   Bronx    Wakefield  40.894705 -73.847201\n1   Bronx   Co-op City  40.874294 -73.829939\n2   Bronx  Eastchester  40.887556 -73.827806\n3   Bronx    Fieldston  40.895437 -73.905643\n4   Bronx    Riverdale  40.890834 -73.912585",
      "text/html": "<div>\n<style scoped>\n    .dataframe tbody tr th:only-of-type {\n        vertical-align: middle;\n    }\n\n    .dataframe tbody tr th {\n        vertical-align: top;\n    }\n\n    .dataframe thead th {\n        text-align: right;\n    }\n</style>\n<table border=\"1\" class=\"dataframe\">\n  <thead>\n    <tr style=\"text-align: right;\">\n      <th></th>\n      <th>Borough</th>\n      <th>Neighborhood</th>\n      <th>Latitude</th>\n      <th>Longitude</th>\n    </tr>\n  </thead>\n  <tbody>\n    <tr>\n      <th>0</th>\n      <td>Bronx</td>\n      <td>Wakefield</td>\n      <td>40.894705</td>\n      <td>-73.847201</td>\n    </tr>\n    <tr>\n      <th>1</th>\n      <td>Bronx</td>\n      <td>Co-op City</td>\n      <td>40.874294</td>\n      <td>-73.829939</td>\n    </tr>\n    <tr>\n      <th>2</th>\n      <td>Bronx</td>\n      <td>Eastchester</td>\n      <td>40.887556</td>\n      <td>-73.827806</td>\n    </tr>\n    <tr>\n      <th>3</th>\n      <td>Bronx</td>\n      <td>Fieldston</td>\n      <td>40.895437</td>\n      <td>-73.905643</td>\n    </tr>\n    <tr>\n      <th>4</th>\n      <td>Bronx</td>\n      <td>Riverdale</td>\n      <td>40.890834</td>\n      <td>-73.912585</td>\n    </tr>\n  </tbody>\n</table>\n</div>"
     },
     "metadata": {},
     "execution_count": 83
    }
   ],
   "source": [
    "ny_hoods.head()"
   ]
  },
  {
   "cell_type": "code",
   "execution_count": 85,
   "metadata": {},
   "outputs": [
    {
     "output_type": "execute_result",
     "data": {
      "text/plain": "    Neighborhood   Latitude  Longitude\n0     Roslindale  42.291209 -71.124497\n1  Jamaica Plain  42.309820 -71.120330\n2   Mission Hill  42.332560 -71.103608\n3       Longwood  42.341718 -71.109922\n4    Bay Village  42.350011 -71.066948",
      "text/html": "<div>\n<style scoped>\n    .dataframe tbody tr th:only-of-type {\n        vertical-align: middle;\n    }\n\n    .dataframe tbody tr th {\n        vertical-align: top;\n    }\n\n    .dataframe thead th {\n        text-align: right;\n    }\n</style>\n<table border=\"1\" class=\"dataframe\">\n  <thead>\n    <tr style=\"text-align: right;\">\n      <th></th>\n      <th>Neighborhood</th>\n      <th>Latitude</th>\n      <th>Longitude</th>\n    </tr>\n  </thead>\n  <tbody>\n    <tr>\n      <th>0</th>\n      <td>Roslindale</td>\n      <td>42.291209</td>\n      <td>-71.124497</td>\n    </tr>\n    <tr>\n      <th>1</th>\n      <td>Jamaica Plain</td>\n      <td>42.309820</td>\n      <td>-71.120330</td>\n    </tr>\n    <tr>\n      <th>2</th>\n      <td>Mission Hill</td>\n      <td>42.332560</td>\n      <td>-71.103608</td>\n    </tr>\n    <tr>\n      <th>3</th>\n      <td>Longwood</td>\n      <td>42.341718</td>\n      <td>-71.109922</td>\n    </tr>\n    <tr>\n      <th>4</th>\n      <td>Bay Village</td>\n      <td>42.350011</td>\n      <td>-71.066948</td>\n    </tr>\n  </tbody>\n</table>\n</div>"
     },
     "metadata": {},
     "execution_count": 85
    }
   ],
   "source": [
    "# Manually fixing specific neighborhoods\n",
    "### Leather District\n",
    "bos_hoods.loc[[5], [\"Latitude\"]] = 42.3505\n",
    "bos_hoods.loc[[5], [\"Longitude\"]] = -71.0579\n",
    "\n",
    "### Harbor Islands\n",
    "bos_hoods.loc[[25], [\"Latitude\"]] = 42.3167\n",
    "bos_hoods.loc[[25], [\"Longitude\"]] = -70.9681\n",
    "\n",
    "bos_hoods.head()"
   ]
  },
  {
   "cell_type": "code",
   "execution_count": 90,
   "metadata": {
    "tags": []
   },
   "outputs": [],
   "source": [
    "for data in chi_neighborhoods_data:\n",
    "    primary_name = data[\"properties\"][\"pri_neigh\"]\n",
    "    secondary_name = data[\"properties\"][\"sec_neigh\"].title()\n",
    "    address = primary_name + \", Chicago\"\n",
    "\n",
    "    geolocator = Nominatim(user_agent=\"chi_explorer\")\n",
    "    location = geolocator.geocode(address)\n",
    "    try:\n",
    "        latitude = location.latitude\n",
    "        longitude = location.longitude\n",
    "    except AttributeError:\n",
    "        pass\n",
    "    #print('The geograpical coordinate of {} are {}, {}.'.format(primary_name, latitude, longitude))\n",
    "    chi_hoods = chi_hoods.append({'Primary Neighborhood': primary_name,\n",
    "                                  'Secondary Neighborhood': secondary_name,\n",
    "                                  'Latitude': latitude,\n",
    "                                  'Longitude': longitude}, ignore_index=True)"
   ]
  },
  {
   "cell_type": "code",
   "execution_count": 96,
   "metadata": {},
   "outputs": [
    {
     "output_type": "execute_result",
     "data": {
      "text/plain": "  Primary Neighborhood Secondary Neighborhood   Latitude  Longitude\n0      Grand Boulevard            Bronzeville  41.813923 -87.617272\n1         Printers Row           Printers Row  41.873787 -87.628900\n2        United Center          United Center  41.880683 -87.674185\n3   Sheffield & DePaul     Sheffield & Depaul  41.880683 -87.674185\n4        Humboldt Park          Humboldt Park  41.905767 -87.704174",
      "text/html": "<div>\n<style scoped>\n    .dataframe tbody tr th:only-of-type {\n        vertical-align: middle;\n    }\n\n    .dataframe tbody tr th {\n        vertical-align: top;\n    }\n\n    .dataframe thead th {\n        text-align: right;\n    }\n</style>\n<table border=\"1\" class=\"dataframe\">\n  <thead>\n    <tr style=\"text-align: right;\">\n      <th></th>\n      <th>Primary Neighborhood</th>\n      <th>Secondary Neighborhood</th>\n      <th>Latitude</th>\n      <th>Longitude</th>\n    </tr>\n  </thead>\n  <tbody>\n    <tr>\n      <th>0</th>\n      <td>Grand Boulevard</td>\n      <td>Bronzeville</td>\n      <td>41.813923</td>\n      <td>-87.617272</td>\n    </tr>\n    <tr>\n      <th>1</th>\n      <td>Printers Row</td>\n      <td>Printers Row</td>\n      <td>41.873787</td>\n      <td>-87.628900</td>\n    </tr>\n    <tr>\n      <th>2</th>\n      <td>United Center</td>\n      <td>United Center</td>\n      <td>41.880683</td>\n      <td>-87.674185</td>\n    </tr>\n    <tr>\n      <th>3</th>\n      <td>Sheffield &amp; DePaul</td>\n      <td>Sheffield &amp; Depaul</td>\n      <td>41.880683</td>\n      <td>-87.674185</td>\n    </tr>\n    <tr>\n      <th>4</th>\n      <td>Humboldt Park</td>\n      <td>Humboldt Park</td>\n      <td>41.905767</td>\n      <td>-87.704174</td>\n    </tr>\n  </tbody>\n</table>\n</div>"
     },
     "metadata": {},
     "execution_count": 96
    }
   ],
   "source": [
    "# Manually fixing specific neighborhoods\n",
    "### River North\n",
    "chi_hoods.loc[[32], [\"Latitude\"]] = 41.8924\n",
    "chi_hoods.loc[[32], [\"Longitude\"]] = -87.6341\n",
    "\n",
    "### Musuem Campus \n",
    "chi_hoods.loc[[97], [\"Latitude\"]] = 41.8636\n",
    "chi_hoods.loc[[97], [\"Longitude\"]] = -87.6163\n",
    "\n",
    "chi_hoods.head()"
   ]
  },
  {
   "cell_type": "code",
   "execution_count": null,
   "metadata": {},
   "outputs": [],
   "source": []
  }
 ]
}